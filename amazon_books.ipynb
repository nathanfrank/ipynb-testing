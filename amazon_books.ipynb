{
 "cells": [
  {
   "cell_type": "code",
   "execution_count": 6,
   "metadata": {},
   "outputs": [
    {
     "name": "stdout",
     "output_type": "stream",
     "text": [
      "                                               Title               Author  \\\n",
      "0              The Complete Novel of Sherlock Holmes   Arthur Conan Doyle   \n",
      "1  Black Holes (L) : The Reith Lectures [Paperbac...      Stephen Hawking   \n",
      "2                                    The Kite Runner      Khaled Hosseini   \n",
      "3  Greenlights: Raucous stories and outlaw wisdom...  Matthew McConaughey   \n",
      "4  The Science of Storytelling: Why Stories Make ...           Will Storr   \n",
      "\n",
      "                 Main Genre           Sub Genre            Type    Price  \\\n",
      "0  Arts, Film & Photography  Cinema & Broadcast       Paperback  ₹169.00   \n",
      "1  Arts, Film & Photography  Cinema & Broadcast       Paperback   ₹99.00   \n",
      "2  Arts, Film & Photography  Cinema & Broadcast  Kindle Edition  ₹175.75   \n",
      "3  Arts, Film & Photography  Cinema & Broadcast       Paperback  ₹389.00   \n",
      "4  Arts, Film & Photography  Cinema & Broadcast       Paperback  ₹348.16   \n",
      "\n",
      "   Rating  No. of People rated  \\\n",
      "0     4.4              19923.0   \n",
      "1     4.5               7686.0   \n",
      "2     4.6              50016.0   \n",
      "3     4.6              32040.0   \n",
      "4     4.5               1707.0   \n",
      "\n",
      "                                                URLs  \n",
      "0  https://www.amazon.in/Complete-Novels-Sherlock...  \n",
      "1  https://www.amazon.in/Black-Holes-Lectures-Ste...  \n",
      "2  https://www.amazon.in/Kite-Runner-Khaled-Hosse...  \n",
      "3  https://www.amazon.in/Greenlights-Raucous-stor...  \n",
      "4  https://www.amazon.in/Science-Storytelling-Wil...  \n"
     ]
    }
   ],
   "source": [
    "import pandas as pd\n",
    "ab_genres = pd.read_csv('./Genre_df.csv', index_col=0)\n",
    "ab_subgenres = pd.read_csv('./Sub_Genre_df.csv', index_col=0)\n",
    "ab_books = pd.read_csv('./Books_df.csv', index_col=0)\n",
    "\n",
    "print(ab_books.head())"
   ]
  },
  {
   "cell_type": "code",
   "execution_count": null,
   "metadata": {},
   "outputs": [],
   "source": []
  }
 ],
 "metadata": {
  "kernelspec": {
   "display_name": ".venv",
   "language": "python",
   "name": "python3"
  },
  "language_info": {
   "codemirror_mode": {
    "name": "ipython",
    "version": 3
   },
   "file_extension": ".py",
   "mimetype": "text/x-python",
   "name": "python",
   "nbconvert_exporter": "python",
   "pygments_lexer": "ipython3",
   "version": "3.12.1"
  }
 },
 "nbformat": 4,
 "nbformat_minor": 2
}
